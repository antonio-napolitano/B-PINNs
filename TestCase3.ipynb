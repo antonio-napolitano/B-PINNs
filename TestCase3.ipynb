{
  "cells": [
    {
      "cell_type": "code",
      "execution_count": null,
      "metadata": {
        "colab": {
          "base_uri": "https://localhost:8080/"
        },
        "id": "MN9mAwPNDIc1",
        "outputId": "bb3fb0e0-8c1b-4bbd-c73d-522b0cbecbfc"
      },
      "outputs": [
        {
          "name": "stdout",
          "output_type": "stream",
          "text": [
            "Collecting git+https://github.com/AdamCobb/hamiltorch\n",
            "  Cloning https://github.com/AdamCobb/hamiltorch to /tmp/pip-req-build-hvh1wspf\n",
            "  Running command git clone --filter=blob:none --quiet https://github.com/AdamCobb/hamiltorch /tmp/pip-req-build-hvh1wspf\n",
            "  Resolved https://github.com/AdamCobb/hamiltorch to commit ec972d4686385f7839d8f062e6a7a13365f00174\n",
            "  Preparing metadata (setup.py) ... \u001b[?25l\u001b[?25hdone\n",
            "Requirement already satisfied: torch>=1.6.0 in /usr/local/lib/python3.10/dist-packages (from hamiltorch==0.4.1) (2.1.0+cu121)\n",
            "Requirement already satisfied: numpy in /usr/local/lib/python3.10/dist-packages (from hamiltorch==0.4.1) (1.25.2)\n",
            "Requirement already satisfied: termcolor in /usr/local/lib/python3.10/dist-packages (from hamiltorch==0.4.1) (2.4.0)\n",
            "Requirement already satisfied: filelock in /usr/local/lib/python3.10/dist-packages (from torch>=1.6.0->hamiltorch==0.4.1) (3.13.1)\n",
            "Requirement already satisfied: typing-extensions in /usr/local/lib/python3.10/dist-packages (from torch>=1.6.0->hamiltorch==0.4.1) (4.10.0)\n",
            "Requirement already satisfied: sympy in /usr/local/lib/python3.10/dist-packages (from torch>=1.6.0->hamiltorch==0.4.1) (1.12)\n",
            "Requirement already satisfied: networkx in /usr/local/lib/python3.10/dist-packages (from torch>=1.6.0->hamiltorch==0.4.1) (3.2.1)\n",
            "Requirement already satisfied: jinja2 in /usr/local/lib/python3.10/dist-packages (from torch>=1.6.0->hamiltorch==0.4.1) (3.1.3)\n",
            "Requirement already satisfied: fsspec in /usr/local/lib/python3.10/dist-packages (from torch>=1.6.0->hamiltorch==0.4.1) (2023.6.0)\n",
            "Requirement already satisfied: triton==2.1.0 in /usr/local/lib/python3.10/dist-packages (from torch>=1.6.0->hamiltorch==0.4.1) (2.1.0)\n",
            "Requirement already satisfied: MarkupSafe>=2.0 in /usr/local/lib/python3.10/dist-packages (from jinja2->torch>=1.6.0->hamiltorch==0.4.1) (2.1.5)\n",
            "Requirement already satisfied: mpmath>=0.19 in /usr/local/lib/python3.10/dist-packages (from sympy->torch>=1.6.0->hamiltorch==0.4.1) (1.3.0)\n",
            "Building wheels for collected packages: hamiltorch\n",
            "  Building wheel for hamiltorch (setup.py) ... \u001b[?25l\u001b[?25hdone\n",
            "  Created wheel for hamiltorch: filename=hamiltorch-0.4.1-py3-none-any.whl size=20806 sha256=6b7e297a450723da47219a94af455dcf2bde7ea0aebdc8b1133c3dc8049dcb80\n",
            "  Stored in directory: /tmp/pip-ephem-wheel-cache-px6kkgak/wheels/fe/87/94/9c0743e518e47f9ef7e6a31bbffa0a8f0463067b7146372625\n",
            "Successfully built hamiltorch\n",
            "Installing collected packages: hamiltorch\n",
            "Successfully installed hamiltorch-0.4.1\n"
          ]
        }
      ],
      "source": [
        "pip install git+https://github.com/AdamCobb/hamiltorch"
      ]
    },
    {
      "cell_type": "code",
      "execution_count": null,
      "metadata": {
        "id": "Xn75E_-vDMPx"
      },
      "outputs": [],
      "source": [
        "import torch\n",
        "import hamiltorch\n",
        "import matplotlib.pyplot as plt\n",
        "\n",
        "import torch.nn as nn\n",
        "import torch.nn.functional as F\n",
        "import numpy as np\n",
        "\n",
        "%matplotlib inline"
      ]
    },
    {
      "cell_type": "code",
      "execution_count": null,
      "metadata": {
        "id": "sEP8VLcEDgh7"
      },
      "outputs": [],
      "source": [
        "hamiltorch.set_random_seed(123)\n",
        "torch.manual_seed(123)\n",
        "np.random.seed(123)\n",
        "device = 'cpu'"
      ]
    },
    {
      "cell_type": "code",
      "execution_count": null,
      "metadata": {
        "colab": {
          "base_uri": "https://localhost:8080/",
          "height": 80
        },
        "id": "FDgrS028Ej6L",
        "outputId": "710510aa-93ea-46dd-8483-6b3f92138d78"
      },
      "outputs": [
        {
          "name": "stdout",
          "output_type": "stream",
          "text": [
            "K*g*r**2*ve*cosh(r*(H/2 - x))/(phi*v*cosh(H*r/2)) + g*(1 - cosh(r*(-H/2 + x))/cosh(H*r/2))\n"
          ]
        },
        {
          "data": {
            "text/latex": "$\\displaystyle \\frac{g \\left(K r^{2} ve \\cosh{\\left(r \\left(\\frac{H}{2} - x\\right) \\right)} + \\phi v \\left(\\cosh{\\left(\\frac{H r}{2} \\right)} - \\cosh{\\left(r \\left(\\frac{H}{2} - x\\right) \\right)}\\right)\\right)}{\\phi v \\cosh{\\left(\\frac{H r}{2} \\right)}}$",
            "text/plain": [
              "g*(K*r**2*ve*cosh(r*(H/2 - x)) + phi*v*(cosh(H*r/2) - cosh(r*(H/2 - x))))/(phi*v*cosh(H*r/2))"
            ]
          },
          "execution_count": 4,
          "metadata": {},
          "output_type": "execute_result"
        }
      ],
      "source": [
        "from sympy import symbols, cosh, diff, simplify\n",
        "\n",
        "# Define symbols\n",
        "x, r, H, g, K, v, ve, phi = symbols('x r H g K v ve phi')\n",
        "\n",
        "# Define the solution u\n",
        "u = (g*K/v) * (1 - cosh(r*(x - H/2))/cosh(r*H/2))\n",
        "\n",
        "# Compute the second derivative of u with respect to x\n",
        "second_derivative = diff(u, x, x)\n",
        "\n",
        "# Compute the expression for the forcing function\n",
        "forcing_function = -ve/phi * second_derivative + (v*u/K)\n",
        "print(forcing_function)\n",
        "# Simplify the expression\n",
        "forcing_function_simplified = simplify(forcing_function)\n",
        "\n",
        "forcing_function_simplified\n"
      ]
    },
    {
      "cell_type": "code",
      "execution_count": null,
      "metadata": {
        "colab": {
          "base_uri": "https://localhost:8080/"
        },
        "id": "jGGrQrzth_-g",
        "outputId": "661c264d-2387-45dc-a6c8-2b6d54995704"
      },
      "outputs": [
        {
          "name": "stdout",
          "output_type": "stream",
          "text": [
            "[[0.  ]\n",
            " [0.25]\n",
            " [0.5 ]\n",
            " [0.75]\n",
            " [1.  ]]\n",
            "[1. 1. 1. 1. 1.]\n"
          ]
        }
      ],
      "source": [
        "lb = 0\n",
        "rb = 1\n",
        "X = np.linspace(lb, rb, 5)[:, None]\n",
        "y = np.ones(X.shape[0])\n",
        "print(X)\n",
        "print(y)"
      ]
    },
    {
      "cell_type": "code",
      "execution_count": null,
      "metadata": {
        "colab": {
          "base_uri": "https://localhost:8080/"
        },
        "id": "IUA7D7qlnvOI",
        "outputId": "51ebbe1e-4020-460f-ee88-e8f011a87dba"
      },
      "outputs": [
        {
          "name": "stdout",
          "output_type": "stream",
          "text": [
            "[[0.  ]\n",
            " [0.25]\n",
            " [0.5 ]\n",
            " [0.75]\n",
            " [1.  ]]\n",
            "[[1.]\n",
            " [1.]\n",
            " [1.]\n",
            " [1.]\n",
            " [1.]]\n"
          ]
        }
      ],
      "source": [
        "X = np.linspace(lb, rb, 5)[:, None]\n",
        "y = np.ones(X.shape[0])[:,None]\n",
        "print(X)\n",
        "print(y)"
      ]
    },
    {
      "cell_type": "code",
      "execution_count": null,
      "metadata": {
        "colab": {
          "base_uri": "https://localhost:8080/"
        },
        "id": "QYDectPupteZ",
        "outputId": "b7878663-1625-421a-ae10-05034c5af116"
      },
      "outputs": [
        {
          "name": "stdout",
          "output_type": "stream",
          "text": [
            "[[0.        ]\n",
            " [0.11111111]\n",
            " [0.22222222]\n",
            " [0.33333333]\n",
            " [0.44444444]\n",
            " [0.55555556]\n",
            " [0.66666667]\n",
            " [0.77777778]\n",
            " [0.88888889]\n",
            " [1.        ]\n",
            " [0.        ]\n",
            " [1.        ]]\n",
            "[[0.98914369]\n",
            " [1.00997345]\n",
            " [1.00282978]\n",
            " [0.98493705]\n",
            " [0.994214  ]\n",
            " [1.01651437]\n",
            " [0.97573321]\n",
            " [0.99571087]\n",
            " [1.01265936]\n",
            " [0.9913326 ]\n",
            " [0.        ]\n",
            " [0.        ]]\n"
          ]
        }
      ],
      "source": [
        "import numpy as np\n",
        "\n",
        "def generate(num, sigma, lam1, lam2):\n",
        "    # Given parameters\n",
        "    ve = v = 1e-3  # effective viscosity and fluid viscosity\n",
        "    phi = 0.4  # porosity\n",
        "    K = 1e-3  # permeability\n",
        "    g = 1  # external force\n",
        "    H = 1  # channel width, implicit from the domain [0,1]\n",
        "\n",
        "    # Calculate r based on given relationship\n",
        "    r = np.sqrt(v * phi / (ve * K))\n",
        "\n",
        "    # New positions interval [0, 1]\n",
        "    lb = 0\n",
        "    rb = 1\n",
        "    X = np.linspace(lb, rb, num)[:, None]\n",
        "    y = np.ones(X.shape[0])[:, None] * lam1\n",
        "\n",
        "    # Calculate boundary conditions\n",
        "    lb_val = (K/v) * (1 - np.cosh(r*(lb - H/2))/np.cosh(r*H/2)) * lam2\n",
        "    rb_val = (K/v) * (1 - np.cosh(r*(rb - H/2))/np.cosh(r*H/2)) * lam2\n",
        "\n",
        "    # Reshape boundary values to match dimensions of y\n",
        "    lb_val = lb_val.reshape(1, -1)\n",
        "    rb_val = rb_val.reshape(1, -1)\n",
        "\n",
        "    # Concatenate boundary points\n",
        "    X = np.concatenate([X, np.array([[lb], [rb]])], axis=0)\n",
        "    y = np.concatenate([y, lb_val, rb_val], axis=0)\n",
        "\n",
        "    # Add noise to the forcing term\n",
        "    y = y * (1 + sigma * np.random.randn(*y.shape))\n",
        "\n",
        "    return X, y\n",
        "(X,y) = generate(10,0.01,1,1/100)\n",
        "print(X)\n",
        "print(y)"
      ]
    },
    {
      "cell_type": "code",
      "execution_count": null,
      "metadata": {
        "id": "dQkMCz8DklQa"
      },
      "outputs": [],
      "source": [
        "class PoissonPINN(torch.nn.Module):\n",
        "    def __init__(self, width, lam1, lam2):\n",
        "        super(PoissonPINN, self).__init__()\n",
        "        self.fnn = nn.Sequential(\n",
        "            nn.Linear(1, width),\n",
        "            nn.Tanh(),\n",
        "            nn.Linear(width, width),      #deifnisce 1 input layer, 1 hidden layer e 1 ouput layer\n",
        "            nn.Tanh(),\n",
        "            nn.Linear(width, 1)\n",
        "        )\n",
        "        self.lam1 = lam1\n",
        "        self.lam2 = lam2\n",
        "\n",
        "    def forward(self, X):\n",
        "        x = X[:-2].requires_grad_(True)\n",
        "        u = self.fnn(x)\n",
        "        u_x = torch.autograd.grad(u, x, grad_outputs = torch.ones_like(u), create_graph = True)[0]\n",
        "        u_xx = torch.autograd.grad(u_x, x, grad_outputs = torch.ones_like(u), create_graph = True)[0]\n",
        "        u_bd = self.fnn(X[-2:])\n",
        "        nu_e = nu = 1e-3\n",
        "        phi = 0.4\n",
        "        K = 1e-3\n",
        "        lhs = -nu_e/phi * u_xx + nu * u / K\n",
        "        return torch.cat([self.lam1 * lhs, u_bd * self.lam2], dim = 0)"
      ]
    },
    {
      "cell_type": "code",
      "execution_count": null,
      "metadata": {
        "id": "0L3gvTllmai5"
      },
      "outputs": [],
      "source": [
        "width = 50\n",
        "sigma = 0.1\n",
        "lam1 = 1\n",
        "lam2 = 100\n",
        "net = PoissonPINN(width, lam1, lam2)\n",
        "for param in net.parameters():\n",
        "    torch.nn.init.normal_(param)"
      ]
    },
    {
      "cell_type": "code",
      "execution_count": null,
      "metadata": {
        "id": "ZJf5vCi_U83f"
      },
      "outputs": [],
      "source": [
        "train_num = 64\n",
        "test_num = 100\n",
        "\n",
        "X_train, y_train = generate(train_num, sigma, lam1, lam2)\n",
        "X_test, y_test = generate(test_num, 0, lam1, lam2)\n",
        "X_train = torch.FloatTensor(X_train)\n",
        "y_train = torch.FloatTensor(y_train)\n",
        "X_test = torch.FloatTensor(X_test)\n",
        "y_test = torch.FloatTensor(y_test)\n",
        "\n",
        "X_train = X_train.to(device)\n",
        "y_train = y_train.to(device)\n",
        "X_test = X_test.to(device)\n",
        "y_test = y_test.to(device)"
      ]
    },
    {
      "cell_type": "code",
      "execution_count": null,
      "metadata": {
        "id": "1kBJFvYQU_Y7"
      },
      "outputs": [],
      "source": [
        "tau_list = [] #qui ci saranno tanti uni quanti sono i parametri nella NN\n",
        "tau = 1.#/100. # iris 1/10\n",
        "for w in net.parameters():\n",
        "    tau_list.append(tau)\n",
        "tau_list = torch.tensor(tau_list).to(device)"
      ]
    },
    {
      "cell_type": "code",
      "execution_count": null,
      "metadata": {
        "colab": {
          "background_save": true,
          "base_uri": "https://localhost:8080/"
        },
        "id": "CavGyeQOVDwo",
        "outputId": "f91c405c-02f1-4ffe-9f93-864e94d32484"
      },
      "outputs": [
        {
          "name": "stdout",
          "output_type": "stream",
          "text": [
            "Sampling (Sampler.HMC; Integrator.IMPLICIT)\n",
            "Time spent  | Time remain.| Progress             | Samples     | Samples/sec\n",
            "\n",
            "Acceptance Rate 0.89\n"
          ]
        }
      ],
      "source": [
        "params_init = hamiltorch.util.flatten(net).to(device).clone()\n",
        "\n",
        "# May need to tune step_size and L to make sure acceptance rate is around 0.5-0.8\n",
        "step_size = 0.0006\n",
        "burn = 2000\n",
        "num_samples = 20000\n",
        "L = 4\n",
        "params_hmc = hamiltorch.sample_model(net, X_train, y_train, model_loss='regression', params_init=params_init, num_samples=num_samples,\n",
        "                                     step_size=step_size, burn = burn, num_steps_per_sample=L,tau_list=tau_list, tau_out=1)"
      ]
    },
    {
      "cell_type": "code",
      "execution_count": null,
      "metadata": {
        "colab": {
          "background_save": true
        },
        "id": "_fOYdt5VVUPn"
      },
      "outputs": [],
      "source": [
        "u_pred_list = []\n",
        "for i in range(num_samples - burn):\n",
        "    params = hamiltorch.util.unflatten(net, params_hmc[i])\n",
        "    hamiltorch.util.update_model_params_in_place(net, params)\n",
        "    u_pred = net.fnn(X_test)[:-2]\n",
        "    u_pred_list.append(u_pred)\n",
        "u_pred = torch.stack(u_pred_list)"
      ]
    },
    {
      "cell_type": "code",
      "execution_count": null,
      "metadata": {
        "colab": {
          "background_save": true
        },
        "id": "Vw5yAx-2VVwf"
      },
      "outputs": [],
      "source": [
        "u_mean = torch.mean(u_pred, dim = 0)\n",
        "u_std = torch.std(u_pred, dim = 0)\n",
        "u_up, u_low = u_mean - 2 * u_std, u_mean + 2 * u_std"
      ]
    },
    {
      "cell_type": "code",
      "execution_count": null,
      "metadata": {
        "colab": {
          "background_save": true,
          "base_uri": "https://localhost:8080/",
          "height": 471
        },
        "id": "b2i8eNqyvJ5G",
        "outputId": "baab3b84-b42b-4d90-a4dd-f54175d61dab"
      },
      "outputs": [
        {
          "data": {
            "image/png": "[encoded data removed]",
            "text/plain": [
              "<Figure size 640x480 with 1 Axes>"
            ]
          },
          "metadata": {},
          "output_type": "display_data"
        }
      ],
      "source": [
        "import torch\n",
        "import matplotlib.pyplot as plt\n",
        "import numpy as np\n",
        "\n",
        "# Provided parameters\n",
        "ve = v = 1e-3  # effective viscosity and fluid viscosity\n",
        "phi = 0.4  # porosity\n",
        "K = 1e-3  # permeability\n",
        "g = 1  # external force\n",
        "H = 1  # channel width, implicit from the domain [0,1]\n",
        "\n",
        "# Calculate r based on given relationship\n",
        "r = np.sqrt(v * phi / (ve * K))\n",
        "\n",
        "# Convert X_test from PyTorch tensor to NumPy array and remove the last two elements\n",
        "x_test_np = X_test[:-2].detach().cpu().numpy().squeeze()\n",
        "\n",
        "# Calculate the exact solution u for each x in x_test_np\n",
        "u_exact = (g * K / v) * (1 - np.cosh(r * (x_test_np - H / 2)) / np.cosh(r * H / 2))\n",
        "\n",
        "# Plot the mean prediction\n",
        "plt.plot(x_test_np, u_mean.detach().cpu().numpy(), label='Mean', color='black')\n",
        "\n",
        "# Scatter plot for the observed data points\n",
        "plt.scatter(X_train[-2:].detach().cpu().numpy(), y_train[-2:].detach().cpu().numpy() / lam2, label='Data', color='blue')\n",
        "\n",
        "# Ensure u_low and u_up are one-dimensional\n",
        "u_low_1d = u_low.squeeze().detach().cpu().numpy()\n",
        "u_up_1d = u_up.squeeze().detach().cpu().numpy()\n",
        "\n",
        "# Confidence Interval (CI) shading with a darker shade\n",
        "plt.fill_between(x_test_np,\n",
        "                 u_low_1d,\n",
        "                 u_up_1d,\n",
        "                 alpha=0.5,  # Use a darker shade by increasing alpha\n",
        "                 color='lightblue',\n",
        "                 label='95% CI')\n",
        "\n",
        "# Plot the exact solution\n",
        "plt.plot(x_test_np, u_exact, label='Exact', color='orange', linestyle='--')\n",
        "\n",
        "# Add labels and legend\n",
        "plt.legend()\n",
        "plt.ylabel('u')\n",
        "plt.xlabel('x')\n",
        "plt.title('Solution u with 95% Confidence Interval and Exact Solution')\n",
        "plt.show()\n",
        "\n"
      ]
    }
  ],
  "metadata": {
    "accelerator": "GPU",
    "colab": {
      "gpuType": "T4",
      "provenance": []
    },
    "kernelspec": {
      "display_name": "Python 3",
      "name": "python3"
    },
    "language_info": {
      "name": "python"
    }
  },
  "nbformat": 4,
  "nbformat_minor": 0
}